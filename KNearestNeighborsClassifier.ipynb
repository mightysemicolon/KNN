{
 "cells": [
  {
   "cell_type": "code",
   "execution_count": 4,
   "metadata": {},
   "outputs": [],
   "source": [
    "import numpy as np"
   ]
  },
  {
   "cell_type": "code",
   "execution_count": 5,
   "metadata": {},
   "outputs": [],
   "source": [
    "class KNearestNeighborsClassifier:\n",
    "\n",
    "    def __init__(self, n_neighbors=5, random_state=42) -> None:\n",
    "\n",
    "        np.random.seed(random_state)\n",
    "        self.n_neighbors = n_neighbors\n",
    "\n",
    "    \n",
    "    def predict(self, X):\n",
    "\n",
    "        X = X.reshape(-1, 1, X.shape[-1])\n",
    "\n",
    "        distance = np.sqrt(np.square((self.x - X)).sum(axis=-1))\n",
    "        argmn = np.argsort(distance, axis=1)\n",
    "        kNeighbors_indices = argmn[:, :self.n_neighbors]\n",
    "        kNeighbors_labels = self.y[kNeighbors_indices]\n",
    "\n",
    "        return np.array([np.bincount(label).argmax() for label in kNeighbors_labels])\n",
    "        \n",
    "\n",
    "    def fit(self, X, y):\n",
    "\n",
    "        self.x = X\n",
    "        self.y = y"
   ]
  },
  {
   "cell_type": "code",
   "execution_count": 6,
   "metadata": {},
   "outputs": [
    {
     "data": {
      "text/plain": [
       "array([1, 2, 4, 0, 1, 1, 4, 0, 0, 2, 0, 1, 0, 1, 4, 2, 2, 2, 2, 0, 4, 0,\n",
       "       2, 4, 2, 1, 0, 1, 4, 3, 2, 3, 1, 2, 3, 0, 4, 1, 3, 4, 1, 0, 2, 4,\n",
       "       3, 3, 4, 4], dtype=int64)"
      ]
     },
     "execution_count": 6,
     "metadata": {},
     "output_type": "execute_result"
    }
   ],
   "source": [
    "X = np.random.random(size=(100, 10))\n",
    "y = np.random.randint(0, 5, size=(100))\n",
    "x = np.random.random(size=(48, 1, 10))\n",
    "\n",
    "model = KNearestNeighborsClassifier(n_neighbors=5)\n",
    "model.fit(X, y)\n",
    "model.predict(x)"
   ]
  }
 ],
 "metadata": {
  "kernelspec": {
   "display_name": "base",
   "language": "python",
   "name": "python3"
  },
  "language_info": {
   "codemirror_mode": {
    "name": "ipython",
    "version": 3
   },
   "file_extension": ".py",
   "mimetype": "text/x-python",
   "name": "python",
   "nbconvert_exporter": "python",
   "pygments_lexer": "ipython3",
   "version": "3.12.4"
  }
 },
 "nbformat": 4,
 "nbformat_minor": 2
}
