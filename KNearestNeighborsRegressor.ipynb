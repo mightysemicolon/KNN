{
 "cells": [
  {
   "cell_type": "code",
   "execution_count": 1,
   "metadata": {},
   "outputs": [],
   "source": [
    "import numpy as np"
   ]
  },
  {
   "cell_type": "code",
   "execution_count": 4,
   "metadata": {},
   "outputs": [],
   "source": [
    "class KNearestNeighborsRegressor:\n",
    "\n",
    "    def __init__(self, n_neighbors=5, random_state=42) -> None:\n",
    "\n",
    "        np.random.seed(random_state)\n",
    "        self.n_neighbors = n_neighbors\n",
    "\n",
    "    \n",
    "    def predict(self, X):\n",
    "\n",
    "        X = X.reshape(-1, 1, X.shape[-1])\n",
    "\n",
    "        distance = np.sqrt(np.square((self.x - X)).sum(axis=-1))\n",
    "        argmn = np.argsort(distance, axis=1)\n",
    "        kNeighbors_indices = argmn[:, :self.n_neighbors]\n",
    "        kNeighbors = self.y[kNeighbors_indices]\n",
    "\n",
    "        return np.mean(kNeighbors, axis=1)\n",
    "        \n",
    "\n",
    "    def fit(self, X, y):\n",
    "\n",
    "        self.x = X\n",
    "        self.y = y"
   ]
  },
  {
   "cell_type": "code",
   "execution_count": 5,
   "metadata": {},
   "outputs": [
    {
     "data": {
      "text/plain": [
       "(48,)"
      ]
     },
     "execution_count": 5,
     "metadata": {},
     "output_type": "execute_result"
    }
   ],
   "source": [
    "X = np.random.random(size=(100, 10))\n",
    "y = np.random.random(size=100)\n",
    "x = np.random.random(size=(48, 1, 10))\n",
    "\n",
    "model = KNearestNeighborsRegressor(n_neighbors=5)\n",
    "model.fit(X, y)\n",
    "model.predict(x).shape"
   ]
  }
 ],
 "metadata": {
  "kernelspec": {
   "display_name": "base",
   "language": "python",
   "name": "python3"
  },
  "language_info": {
   "codemirror_mode": {
    "name": "ipython",
    "version": 3
   },
   "file_extension": ".py",
   "mimetype": "text/x-python",
   "name": "python",
   "nbconvert_exporter": "python",
   "pygments_lexer": "ipython3",
   "version": "3.12.4"
  }
 },
 "nbformat": 4,
 "nbformat_minor": 2
}
